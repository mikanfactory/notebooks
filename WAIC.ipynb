{
 "cells": [
  {
   "cell_type": "code",
   "execution_count": 1,
   "metadata": {
    "collapsed": true
   },
   "outputs": [],
   "source": [
    "import numpy as np\n",
    "import pandas as pd\n",
    "import pystan\n",
    "\n",
    "%matplotlib inline"
   ]
  },
  {
   "cell_type": "code",
   "execution_count": 2,
   "metadata": {
    "collapsed": true
   },
   "outputs": [],
   "source": [
    "def waic(log_likelihood):\n",
    "    training_error = - np.mean(np.log(np.mean(np.exp(log_likelihood), axis=0)))\n",
    "    functional_variance_div_N = np.mean((np.mean(log_likelihood**2, axis=0)) - np.mean(log_likelihood)**2)\n",
    "    return training_error + functional_variance_div_N"
   ]
  },
  {
   "cell_type": "code",
   "execution_count": 3,
   "metadata": {},
   "outputs": [],
   "source": [
    "sample = np.array(pd.read_csv(\"./data.csv\")['value'])"
   ]
  },
  {
   "cell_type": "code",
   "execution_count": 4,
   "metadata": {
    "collapsed": true
   },
   "outputs": [],
   "source": [
    "pareto = \"\"\"\n",
    "data {\n",
    "    int<lower=0> N;\n",
    "    real<lower=1.0> x[N];\n",
    "    real<lower=0> minx;\n",
    "}\n",
    "parameters {\n",
    "    real<lower=0.0001,upper=minx>   alpha;\n",
    "    real<lower=0.0001>  beta; \n",
    "}\n",
    "model {\n",
    "    for(n in 1:N){\n",
    "        x[n] ~ pareto(alpha, beta);\n",
    "    }\n",
    "}\n",
    "generated quantities{\n",
    "    vector[N] log_lik;\n",
    "\n",
    "    for(n in 1:N){\n",
    "        log_lik[n] = pareto_lpdf(x[n]|alpha,beta);\n",
    "    }\n",
    "}\n",
    "\"\"\""
   ]
  },
  {
   "cell_type": "code",
   "execution_count": 5,
   "metadata": {
    "collapsed": true
   },
   "outputs": [],
   "source": [
    "log_normal = \"\"\"\n",
    "data {\n",
    "  int<lower=0> N;\n",
    "  real<lower=0.999> x[N];\n",
    "}\n",
    "parameters {\n",
    "  real  mu;  \n",
    "  real<lower=0>   sigma;\n",
    "}\n",
    "model {\n",
    "  for(n in 1:N){\n",
    "    x[n] ~ lognormal(mu,sigma);\n",
    "  }\n",
    "}\n",
    "generated quantities{\n",
    "  vector[N] log_lik;\n",
    "  \n",
    "  for(i in 1:N){\n",
    "    log_lik[i] = lognormal_lpdf(x[i]|mu,sigma);\n",
    "  }\n",
    "}\n",
    "\"\"\""
   ]
  },
  {
   "cell_type": "code",
   "execution_count": 6,
   "metadata": {
    "collapsed": true
   },
   "outputs": [],
   "source": [
    "gamma = \"\"\"\n",
    "data {\n",
    "  int<lower=0> N;\n",
    "  real<lower=0.999> x[N];\n",
    "}\n",
    "parameters {\n",
    "  real<lower=0.0001>  alpha;\n",
    "  real<lower=0.0001>   beta;\n",
    "}\n",
    "model {\n",
    "  for(i in 1:N){\n",
    "    x[i] ~ gamma(alpha,beta);\n",
    "  }\n",
    "}\n",
    "generated quantities{\n",
    "  vector[N] log_lik;\n",
    "\n",
    "  for(i in 1:N){\n",
    "    log_lik[i] = gamma_lpdf(x[i]|alpha,beta);\n",
    "  }\n",
    "}\n",
    "\n",
    "\"\"\""
   ]
  },
  {
   "cell_type": "code",
   "execution_count": 7,
   "metadata": {},
   "outputs": [
    {
     "name": "stderr",
     "output_type": "stream",
     "text": [
      "INFO:pystan:COMPILING THE C++ CODE FOR MODEL anon_model_740310d1f50ee8aeddf083a6b02f0131 NOW.\n"
     ]
    }
   ],
   "source": [
    "data = {\n",
    "    'N': len(sample),\n",
    "    'x':  sample,\n",
    "    'minx': 1\n",
    "}\n",
    "\n",
    "sm1 = pystan.stan(model_code=pareto, data=data)"
   ]
  },
  {
   "cell_type": "code",
   "execution_count": 8,
   "metadata": {},
   "outputs": [
    {
     "name": "stderr",
     "output_type": "stream",
     "text": [
      "INFO:pystan:COMPILING THE C++ CODE FOR MODEL anon_model_bc7abf8948cc9690adf089d1d95cf946 NOW.\n"
     ]
    }
   ],
   "source": [
    "data = {\n",
    "    'N': len(sample),\n",
    "    'x':  sample\n",
    "}\n",
    "\n",
    "sm2 = pystan.stan(model_code=log_normal, data=data)"
   ]
  },
  {
   "cell_type": "code",
   "execution_count": 9,
   "metadata": {},
   "outputs": [
    {
     "name": "stderr",
     "output_type": "stream",
     "text": [
      "INFO:pystan:COMPILING THE C++ CODE FOR MODEL anon_model_d508aef499f08141f76ec0bc4da257e8 NOW.\n"
     ]
    }
   ],
   "source": [
    "data = {\n",
    "    'N': len(sample),\n",
    "    'x':  sample\n",
    "}\n",
    "\n",
    "sm3 = pystan.stan(model_code=gamma, data=data)"
   ]
  },
  {
   "cell_type": "code",
   "execution_count": 10,
   "metadata": {},
   "outputs": [
    {
     "name": "stdout",
     "output_type": "stream",
     "text": [
      "pareto:  5.11359657333\n",
      "log_normal:  5.54704191093\n",
      "gamma 6.75763087054\n"
     ]
    }
   ],
   "source": [
    "print \"pareto: \", waic(sm1.extract()['log_lik'])\n",
    "print \"log_normal: \", waic(sm2.extract()['log_lik'])\n",
    "print \"gamma\", waic(sm3.extract()['log_lik'])"
   ]
  },
  {
   "cell_type": "code",
   "execution_count": null,
   "metadata": {
    "collapsed": true
   },
   "outputs": [],
   "source": []
  }
 ],
 "metadata": {
  "kernelspec": {
   "display_name": "Python 3",
   "language": "python",
   "name": "python3"
  },
  "language_info": {
   "codemirror_mode": {
    "name": "ipython",
    "version": 3
   },
   "file_extension": ".py",
   "mimetype": "text/x-python",
   "name": "python",
   "nbconvert_exporter": "python",
   "pygments_lexer": "ipython3",
   "version": "3.6.5"
  }
 },
 "nbformat": 4,
 "nbformat_minor": 2
}
