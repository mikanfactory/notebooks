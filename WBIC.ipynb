{
 "cells": [
  {
   "cell_type": "code",
   "execution_count": 1,
   "metadata": {
    "collapsed": true
   },
   "outputs": [],
   "source": [
    "import numpy as np\n",
    "import pandas as pd\n",
    "import pystan\n",
    "\n",
    "%matplotlib inline"
   ]
  },
  {
   "cell_type": "code",
   "execution_count": 2,
   "metadata": {
    "collapsed": true
   },
   "outputs": [],
   "source": [
    "def wbic(log_likelihood):\n",
    "    return - np.mean(np.sum(log_likelihood, axis=1))"
   ]
  },
  {
   "cell_type": "code",
   "execution_count": 3,
   "metadata": {
    "collapsed": true
   },
   "outputs": [],
   "source": [
    "sample = np.array(pd.read_csv(\"./data.csv\")['value'])"
   ]
  },
  {
   "cell_type": "code",
   "execution_count": 4,
   "metadata": {
    "collapsed": true
   },
   "outputs": [],
   "source": [
    "pareto = \"\"\"\n",
    "data {\n",
    "    int<lower=0> N;\n",
    "    real<lower=1.0> x[N];\n",
    "    real<lower=0> minx;\n",
    "}\n",
    "parameters {\n",
    "    real<lower=0.0001,upper=minx>   alpha;\n",
    "    real<lower=0.0001>  beta; \n",
    "}\n",
    "model {\n",
    "    for(n in 1:N){\n",
    "        target += 1/log(N) * pareto_lpdf(x[n] | alpha, beta);\n",
    "    }\n",
    "}\n",
    "generated quantities{\n",
    "    vector[N] log_lik;\n",
    "\n",
    "    for(n in 1:N){\n",
    "        log_lik[n] = pareto_lpdf(x[n] | alpha, beta);\n",
    "    }\n",
    "}\n",
    "\"\"\""
   ]
  },
  {
   "cell_type": "code",
   "execution_count": 5,
   "metadata": {
    "collapsed": true
   },
   "outputs": [],
   "source": [
    "log_normal = \"\"\"\n",
    "data {\n",
    "  int<lower=0> N;\n",
    "  real<lower=0.999> x[N];\n",
    "}\n",
    "parameters {\n",
    "  real  mu;  \n",
    "  real<lower=0>   sigma;\n",
    "}\n",
    "model {\n",
    "  for(n in 1:N){\n",
    "      target += 1/log(N) * lognormal_lpdf(x[n] | mu, sigma);\n",
    "  }\n",
    "}\n",
    "generated quantities{\n",
    "  vector[N] log_lik;\n",
    "  \n",
    "  for(i in 1:N){\n",
    "    log_lik[i] = lognormal_lpdf(x[i] | mu, sigma);\n",
    "  }\n",
    "}\n",
    "\"\"\""
   ]
  },
  {
   "cell_type": "code",
   "execution_count": 6,
   "metadata": {
    "collapsed": true
   },
   "outputs": [],
   "source": [
    "gamma = \"\"\"\n",
    "data {\n",
    "  int<lower=0> N;\n",
    "  real<lower=0.999> x[N];\n",
    "}\n",
    "parameters {\n",
    "  real<lower=0.0001>  alpha;\n",
    "  real<lower=0.0001>   beta;\n",
    "}\n",
    "model {\n",
    "  for(n in 1:N){\n",
    "    target += gamma_lpdf(x[n] | alpha, beta);\n",
    "    x[n] ~ gamma(alpha,beta);\n",
    "  }\n",
    "}\n",
    "generated quantities{\n",
    "  vector[N] log_lik;\n",
    "\n",
    "  for(n in 1:N){\n",
    "    log_lik[n] = gamma_lpdf(x[n] | alpha, beta);\n",
    "  }\n",
    "}\n",
    "\n",
    "\"\"\""
   ]
  },
  {
   "cell_type": "code",
   "execution_count": 7,
   "metadata": {},
   "outputs": [
    {
     "name": "stderr",
     "output_type": "stream",
     "text": [
      "INFO:pystan:COMPILING THE C++ CODE FOR MODEL anon_model_91927e1a511f0e96c2d7df9ec165d6a7 NOW.\n"
     ]
    }
   ],
   "source": [
    "data = {\n",
    "    'N': len(sample),\n",
    "    'x':  sample,\n",
    "    'minx': 1\n",
    "}\n",
    "\n",
    "sm1 = pystan.stan(model_code=pareto, data=data)"
   ]
  },
  {
   "cell_type": "code",
   "execution_count": 8,
   "metadata": {},
   "outputs": [
    {
     "name": "stderr",
     "output_type": "stream",
     "text": [
      "INFO:pystan:COMPILING THE C++ CODE FOR MODEL anon_model_3047010197cac5706b4bd9d9f57169cb NOW.\n"
     ]
    }
   ],
   "source": [
    "data = {\n",
    "    'N': len(sample),\n",
    "    'x':  sample\n",
    "}\n",
    "\n",
    "sm2 = pystan.stan(model_code=log_normal, data=data)"
   ]
  },
  {
   "cell_type": "code",
   "execution_count": 9,
   "metadata": {},
   "outputs": [
    {
     "name": "stderr",
     "output_type": "stream",
     "text": [
      "INFO:pystan:COMPILING THE C++ CODE FOR MODEL anon_model_c5f91b18028ef6dfbe2ed75cb9265a4e NOW.\n"
     ]
    }
   ],
   "source": [
    "data = {\n",
    "    'N': len(sample),\n",
    "    'x':  sample\n",
    "}\n",
    "\n",
    "sm3 = pystan.stan(model_code=gamma, data=data)"
   ]
  },
  {
   "cell_type": "code",
   "execution_count": 10,
   "metadata": {},
   "outputs": [
    {
     "name": "stdout",
     "output_type": "stream",
     "text": [
      "pareto:  1440.73164437\n",
      "log_normal:  1956.23255718\n",
      "gamma 2293.03421784\n"
     ]
    }
   ],
   "source": [
    "print \"pareto: \", wbic(sm1.extract()['log_lik'])\n",
    "print \"log_normal: \", wbic(sm2.extract()['log_lik'])\n",
    "print \"gamma\", wbic(sm3.extract()['log_lik'])"
   ]
  },
  {
   "cell_type": "code",
   "execution_count": null,
   "metadata": {
    "collapsed": true
   },
   "outputs": [],
   "source": []
  }
 ],
 "metadata": {
  "kernelspec": {
   "display_name": "Python 2",
   "language": "python",
   "name": "python2"
  },
  "language_info": {
   "codemirror_mode": {
    "name": "ipython",
    "version": 2
   },
   "file_extension": ".py",
   "mimetype": "text/x-python",
   "name": "python",
   "nbconvert_exporter": "python",
   "pygments_lexer": "ipython2",
   "version": "2.7.10"
  }
 },
 "nbformat": 4,
 "nbformat_minor": 2
}
