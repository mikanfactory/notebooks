{
 "cells": [
  {
   "cell_type": "code",
   "execution_count": 1,
   "metadata": {},
   "outputs": [
    {
     "ename": "ModuleNotFoundError",
     "evalue": "No module named 'pystan'",
     "output_type": "error",
     "traceback": [
      "\u001b[0;31m---------------------------------------------------------------------------\u001b[0m",
      "\u001b[0;31mModuleNotFoundError\u001b[0m                       Traceback (most recent call last)",
      "\u001b[0;32m<ipython-input-1-d2f8a4b62136>\u001b[0m in \u001b[0;36m<module>\u001b[0;34m()\u001b[0m\n\u001b[1;32m      1\u001b[0m \u001b[0;32mimport\u001b[0m \u001b[0mnumpy\u001b[0m \u001b[0;32mas\u001b[0m \u001b[0mnp\u001b[0m\u001b[0;34m\u001b[0m\u001b[0m\n\u001b[1;32m      2\u001b[0m \u001b[0;32mimport\u001b[0m \u001b[0mpandas\u001b[0m \u001b[0;32mas\u001b[0m \u001b[0mpd\u001b[0m\u001b[0;34m\u001b[0m\u001b[0m\n\u001b[0;32m----> 3\u001b[0;31m \u001b[0;32mimport\u001b[0m \u001b[0mpystan\u001b[0m\u001b[0;34m\u001b[0m\u001b[0m\n\u001b[0m\u001b[1;32m      4\u001b[0m \u001b[0;34m\u001b[0m\u001b[0m\n\u001b[1;32m      5\u001b[0m \u001b[0mget_ipython\u001b[0m\u001b[0;34m(\u001b[0m\u001b[0;34m)\u001b[0m\u001b[0;34m.\u001b[0m\u001b[0mrun_line_magic\u001b[0m\u001b[0;34m(\u001b[0m\u001b[0;34m'matplotlib'\u001b[0m\u001b[0;34m,\u001b[0m \u001b[0;34m'inline'\u001b[0m\u001b[0;34m)\u001b[0m\u001b[0;34m\u001b[0m\u001b[0m\n",
      "\u001b[0;31mModuleNotFoundError\u001b[0m: No module named 'pystan'"
     ]
    }
   ],
   "source": [
    "import numpy as np\n",
    "import pandas as pd\n",
    "import pystan\n",
    "\n",
    "%matplotlib inline"
   ]
  },
  {
   "cell_type": "code",
   "execution_count": null,
   "metadata": {},
   "outputs": [],
   "source": [
    "def wbic(log_likelihood):\n",
    "    return - np.mean(np.sum(log_likelihood, axis=1))"
   ]
  },
  {
   "cell_type": "code",
   "execution_count": null,
   "metadata": {},
   "outputs": [],
   "source": [
    "sample = np.array(pd.read_csv(\"./data.csv\")['value'])"
   ]
  },
  {
   "cell_type": "code",
   "execution_count": null,
   "metadata": {},
   "outputs": [],
   "source": [
    "pareto = \"\"\"\n",
    "data {\n",
    "    int<lower=0> N;\n",
    "    real<lower=1.0> x[N];\n",
    "    real<lower=0> minx;\n",
    "}\n",
    "parameters {\n",
    "    real<lower=0.0001,upper=minx>   alpha;\n",
    "    real<lower=0.0001>  beta; \n",
    "}\n",
    "model {\n",
    "    for(n in 1:N){\n",
    "        target += 1/log(N) * pareto_lpdf(x[n] | alpha, beta);\n",
    "    }\n",
    "}\n",
    "generated quantities{\n",
    "    vector[N] log_lik;\n",
    "\n",
    "    for(n in 1:N){\n",
    "        log_lik[n] = pareto_lpdf(x[n] | alpha, beta);\n",
    "    }\n",
    "}\n",
    "\"\"\""
   ]
  },
  {
   "cell_type": "code",
   "execution_count": null,
   "metadata": {},
   "outputs": [],
   "source": [
    "log_normal = \"\"\"\n",
    "data {\n",
    "  int<lower=0> N;\n",
    "  real<lower=0.999> x[N];\n",
    "}\n",
    "parameters {\n",
    "  real  mu;  \n",
    "  real<lower=0>   sigma;\n",
    "}\n",
    "model {\n",
    "  for(n in 1:N){\n",
    "      target += 1/log(N) * lognormal_lpdf(x[n] | mu, sigma);\n",
    "  }\n",
    "}\n",
    "generated quantities{\n",
    "  vector[N] log_lik;\n",
    "  \n",
    "  for(i in 1:N){\n",
    "    log_lik[i] = lognormal_lpdf(x[i] | mu, sigma);\n",
    "  }\n",
    "}\n",
    "\"\"\""
   ]
  },
  {
   "cell_type": "code",
   "execution_count": null,
   "metadata": {},
   "outputs": [],
   "source": [
    "gamma = \"\"\"\n",
    "data {\n",
    "  int<lower=0> N;\n",
    "  real<lower=0.999> x[N];\n",
    "}\n",
    "parameters {\n",
    "  real<lower=0.0001>  alpha;\n",
    "  real<lower=0.0001>   beta;\n",
    "}\n",
    "model {\n",
    "  for(n in 1:N){\n",
    "    target += gamma_lpdf(x[n] | alpha, beta);\n",
    "    x[n] ~ gamma(alpha,beta);\n",
    "  }\n",
    "}\n",
    "generated quantities{\n",
    "  vector[N] log_lik;\n",
    "\n",
    "  for(n in 1:N){\n",
    "    log_lik[n] = gamma_lpdf(x[n] | alpha, beta);\n",
    "  }\n",
    "}\n",
    "\n",
    "\"\"\""
   ]
  },
  {
   "cell_type": "code",
   "execution_count": null,
   "metadata": {},
   "outputs": [],
   "source": [
    "data = {\n",
    "    'N': len(sample),\n",
    "    'x':  sample,\n",
    "    'minx': 1\n",
    "}\n",
    "\n",
    "sm1 = pystan.stan(model_code=pareto, data=data)"
   ]
  },
  {
   "cell_type": "code",
   "execution_count": null,
   "metadata": {},
   "outputs": [],
   "source": [
    "data = {\n",
    "    'N': len(sample),\n",
    "    'x':  sample\n",
    "}\n",
    "\n",
    "sm2 = pystan.stan(model_code=log_normal, data=data)"
   ]
  },
  {
   "cell_type": "code",
   "execution_count": null,
   "metadata": {},
   "outputs": [],
   "source": [
    "data = {\n",
    "    'N': len(sample),\n",
    "    'x':  sample\n",
    "}\n",
    "\n",
    "sm3 = pystan.stan(model_code=gamma, data=data)"
   ]
  },
  {
   "cell_type": "code",
   "execution_count": null,
   "metadata": {},
   "outputs": [],
   "source": [
    "print \"pareto: \", wbic(sm1.extract()['log_lik'])\n",
    "print \"log_normal: \", wbic(sm2.extract()['log_lik'])\n",
    "print \"gamma\", wbic(sm3.extract()['log_lik'])"
   ]
  },
  {
   "cell_type": "code",
   "execution_count": null,
   "metadata": {},
   "outputs": [],
   "source": []
  }
 ],
 "metadata": {
  "kernelspec": {
   "display_name": "Python 3",
   "language": "python",
   "name": "python3"
  },
  "language_info": {
   "codemirror_mode": {
    "name": "ipython",
    "version": 3
   },
   "file_extension": ".py",
   "mimetype": "text/x-python",
   "name": "python",
   "nbconvert_exporter": "python",
   "pygments_lexer": "ipython3",
   "version": "3.6.5"
  }
 },
 "nbformat": 4,
 "nbformat_minor": 2
}
