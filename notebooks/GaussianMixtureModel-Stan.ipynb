{
 "cells": [
  {
   "cell_type": "code",
   "execution_count": 1,
   "metadata": {},
   "outputs": [],
   "source": [
    "import arviz as az"
   ]
  },
  {
   "cell_type": "code",
   "execution_count": 2,
   "metadata": {},
   "outputs": [],
   "source": [
    "from util import stan_cache"
   ]
  },
  {
   "cell_type": "code",
   "execution_count": 3,
   "metadata": {},
   "outputs": [],
   "source": [
    "np.random.seed(1)"
   ]
  },
  {
   "cell_type": "code",
   "execution_count": 4,
   "metadata": {},
   "outputs": [],
   "source": [
    "a = np.random.normal(loc=5.0, scale=2, size=100)\n",
    "b = np.random.normal(loc=15.0, scale=4, size=150)\n",
    "sample = np.hstack((a, b))\n",
    "n = len(sample)"
   ]
  },
  {
   "cell_type": "code",
   "execution_count": 5,
   "metadata": {},
   "outputs": [],
   "source": [
    "update_mpl_setting()"
   ]
  },
  {
   "cell_type": "code",
   "execution_count": 6,
   "metadata": {
    "scrolled": true
   },
   "outputs": [
    {
     "data": {
      "text/plain": [
       "<matplotlib.axes._subplots.AxesSubplot at 0x7f9d2d30d208>"
      ]
     },
     "execution_count": 6,
     "metadata": {},
     "output_type": "execute_result"
    },
    {
     "data": {
      "image/png": "[encoded data removed]",
      "text/plain": [
       "<Figure size 561.6x374.4 with 1 Axes>"
      ]
     },
     "metadata": {
      "needs_background": "light"
     },
     "output_type": "display_data"
    }
   ],
   "source": [
    "sns.distplot(sample)"
   ]
  },
  {
   "cell_type": "markdown",
   "metadata": {},
   "source": [
    "混合正規分布の同時分布を潜在変数 $z_n$ について周辺化すると"
   ]
  },
  {
   "cell_type": "markdown",
   "metadata": {},
   "source": [
    "$$\n",
    "log(Y | \\pi, \\mu, \\sigma) = \\sum_n^N \\log \\left[ \\sum_k^K \\exp \\left( \\log \\pi_k + \\log \\mathcal{N}(y_n | \\mu_k, \\sigma_k) \\right) \\right]\n",
    "$$"
   ]
  },
  {
   "cell_type": "code",
   "execution_count": 7,
   "metadata": {},
   "outputs": [],
   "source": [
    "model = \"\"\"\n",
    "data {\n",
    "    int N;\n",
    "    int K;\n",
    "    vector[N] y;\n",
    "}\n",
    "parameters {\n",
    "    simplex[K] pi;\n",
    "    real mu[K];\n",
    "    real<lower=0> sigma[K];\n",
    "}\n",
    "model {\n",
    "    real logprob[K];\n",
    "    for(n in 1:N) {\n",
    "        for(k in 1:K) {\n",
    "            logprob[k] = log(pi[k]) + normal_lpdf(y[n] | mu[k], sigma[k]);\n",
    "        }\n",
    "        target += log_sum_exp(logprob);\n",
    "    }\n",
    "}\n",
    "\"\"\""
   ]
  },
  {
   "cell_type": "code",
   "execution_count": 8,
   "metadata": {},
   "outputs": [],
   "source": [
    "data = {\n",
    "    \"N\": n,\n",
    "    \"K\": 2,\n",
    "    \"y\": sample\n",
    "}\n",
    "\n",
    "sm = stan_cache(model)"
   ]
  },
  {
   "cell_type": "code",
   "execution_count": 9,
   "metadata": {},
   "outputs": [
    {
     "name": "stderr",
     "output_type": "stream",
     "text": [
      "WARNING:pystan:n_eff / iter for parameter pi[1] is 8.357369655467788e-05!\n",
      "WARNING:pystan:n_eff / iter for parameter pi[2] is 8.357369655467788e-05!\n",
      "WARNING:pystan:n_eff / iter for parameter mu[1] is 0.0004944745147364358!\n",
      "WARNING:pystan:n_eff / iter for parameter mu[2] is 0.00031379666649446035!\n",
      "WARNING:pystan:n_eff / iter for parameter sigma[1] is nan!\n",
      "WARNING:pystan:n_eff / iter for parameter sigma[2] is nan!\n",
      "WARNING:pystan:n_eff / iter for parameter lp__ is 8.334242873710244e-05!\n",
      "WARNING:pystan:n_eff / iter below 0.001 indicates that the effective sample size has likely been overestimated\n",
      "WARNING:pystan:Rhat for parameter pi[1] is 18.15247989320964!\n",
      "WARNING:pystan:Rhat for parameter pi[2] is 18.152479893209623!\n",
      "WARNING:pystan:Rhat for parameter mu[1] is 1.3531315447583225!\n",
      "WARNING:pystan:Rhat for parameter mu[2] is 2.5063747601146122!\n",
      "WARNING:pystan:Rhat for parameter sigma[1] is nan!\n",
      "WARNING:pystan:Rhat for parameter sigma[2] is nan!\n",
      "WARNING:pystan:Rhat for parameter lp__ is 187.6955824894156!\n",
      "WARNING:pystan:Rhat above 1.1 or below 0.9 indicates that the chains very likely have not mixed\n",
      "WARNING:pystan:16699 of 24000 iterations ended with a divergence (69.57916666666667%).\n",
      "WARNING:pystan:Try running with adapt_delta larger than 0.8 to remove the divergences.\n"
     ]
    }
   ],
   "source": [
    "params = sm.sampling(data=data, iter=8000, warmup=2000)"
   ]
  },
  {
   "cell_type": "code",
   "execution_count": 10,
   "metadata": {},
   "outputs": [
    {
     "data": {
      "text/plain": [
       "Inference for Stan model: anon_model_ab1dea668a6f203232e910a66acb343f.\n",
       "4 chains, each with iter=8000; warmup=2000; thin=1; \n",
       "post-warmup draws per chain=6000, total post-warmup draws=24000.\n",
       "\n",
       "           mean se_mean     sd   2.5%    25%    50%    75%  97.5%  n_eff   Rhat\n",
       "pi[1]       0.6     0.3   0.42 4.3e-4   0.09   0.75    1.0    1.0      2  18.15\n",
       "pi[2]       0.4     0.3   0.42 1.7e-4 2.7e-3   0.25   0.91    1.0      2  18.15\n",
       "mu[1]    2210.3  2102.9 7244.5  -5658   5.31   11.1  11.64  2.7e4     12   1.35\n",
       "mu[2]    -386.3   358.4 983.55  -3115 -431.4  11.43  15.44 834.15      8   2.51\n",
       "sigma[1]    inf     nan    inf   1.56    3.9   6.044.1e3041.6e308    nan    nan\n",
       "sigma[2]    inf     nan    inf    3.7   5.413.9e3039.1e3071.7e308    nan    nan\n",
       "lp__     -266.3  204.15 288.73 -768.5 -469.3 -100.0 -98.71 -97.54      2  187.7\n",
       "\n",
       "Samples were drawn using NUTS at Sun Dec 23 01:56:53 2018.\n",
       "For each parameter, n_eff is a crude measure of effective sample size,\n",
       "and Rhat is the potential scale reduction factor on split chains (at \n",
       "convergence, Rhat=1)."
      ]
     },
     "execution_count": 10,
     "metadata": {},
     "output_type": "execute_result"
    }
   ],
   "source": [
    "params"
   ]
  },
  {
   "cell_type": "code",
   "execution_count": 11,
   "metadata": {},
   "outputs": [
    {
     "data": {
      "text/html": [
       "<div>\n",
       "<style scoped>\n",
       "    .dataframe tbody tr th:only-of-type {\n",
       "        vertical-align: middle;\n",
       "    }\n",
       "\n",
       "    .dataframe tbody tr th {\n",
       "        vertical-align: top;\n",
       "    }\n",
       "\n",
       "    .dataframe thead th {\n",
       "        text-align: right;\n",
       "    }\n",
       "</style>\n",
       "<table border=\"1\" class=\"dataframe\">\n",
       "  <thead>\n",
       "    <tr style=\"text-align: right;\">\n",
       "      <th></th>\n",
       "      <th>count</th>\n",
       "      <th>mean</th>\n",
       "      <th>std</th>\n",
       "      <th>min</th>\n",
       "      <th>25%</th>\n",
       "      <th>50%</th>\n",
       "      <th>75%</th>\n",
       "      <th>max</th>\n",
       "    </tr>\n",
       "  </thead>\n",
       "  <tbody>\n",
       "    <tr>\n",
       "      <th>pi1</th>\n",
       "      <td>24000.0</td>\n",
       "      <td>0.596566</td>\n",
       "      <td>0.422929</td>\n",
       "      <td>2.689899e-06</td>\n",
       "      <td>0.133423</td>\n",
       "      <td>7.502711e-01</td>\n",
       "      <td>9.972721e-01</td>\n",
       "      <td>9.999999e-01</td>\n",
       "    </tr>\n",
       "    <tr>\n",
       "      <th>pi2</th>\n",
       "      <td>24000.0</td>\n",
       "      <td>0.403434</td>\n",
       "      <td>0.422929</td>\n",
       "      <td>1.494010e-07</td>\n",
       "      <td>0.002728</td>\n",
       "      <td>2.497289e-01</td>\n",
       "      <td>8.665765e-01</td>\n",
       "      <td>9.999973e-01</td>\n",
       "    </tr>\n",
       "    <tr>\n",
       "      <th>mu1</th>\n",
       "      <td>24000.0</td>\n",
       "      <td>2210.391618</td>\n",
       "      <td>7244.593624</td>\n",
       "      <td>-1.689386e+04</td>\n",
       "      <td>5.307728</td>\n",
       "      <td>1.110493e+01</td>\n",
       "      <td>1.164149e+01</td>\n",
       "      <td>4.133514e+04</td>\n",
       "    </tr>\n",
       "    <tr>\n",
       "      <th>mu2</th>\n",
       "      <td>24000.0</td>\n",
       "      <td>-386.334678</td>\n",
       "      <td>983.554973</td>\n",
       "      <td>-3.436512e+03</td>\n",
       "      <td>-431.423823</td>\n",
       "      <td>1.143048e+01</td>\n",
       "      <td>1.544410e+01</td>\n",
       "      <td>1.134032e+03</td>\n",
       "    </tr>\n",
       "    <tr>\n",
       "      <th>sigma1</th>\n",
       "      <td>24000.0</td>\n",
       "      <td>inf</td>\n",
       "      <td>inf</td>\n",
       "      <td>1.061352e+00</td>\n",
       "      <td>4.601483</td>\n",
       "      <td>6.035698e+00</td>\n",
       "      <td>1.874497e+304</td>\n",
       "      <td>1.797657e+308</td>\n",
       "    </tr>\n",
       "    <tr>\n",
       "      <th>sigma2</th>\n",
       "      <td>24000.0</td>\n",
       "      <td>inf</td>\n",
       "      <td>inf</td>\n",
       "      <td>2.912545e+00</td>\n",
       "      <td>5.408828</td>\n",
       "      <td>3.929300e+303</td>\n",
       "      <td>9.101507e+307</td>\n",
       "      <td>1.796832e+308</td>\n",
       "    </tr>\n",
       "  </tbody>\n",
       "</table>\n",
       "</div>"
      ],
      "text/plain": [
       "          count         mean          std           min         25%            50%            75%  \\\n",
       "pi1     24000.0     0.596566     0.422929  2.689899e-06    0.133423   7.502711e-01   9.972721e-01   \n",
       "pi2     24000.0     0.403434     0.422929  1.494010e-07    0.002728   2.497289e-01   8.665765e-01   \n",
       "mu1     24000.0  2210.391618  7244.593624 -1.689386e+04    5.307728   1.110493e+01   1.164149e+01   \n",
       "mu2     24000.0  -386.334678   983.554973 -3.436512e+03 -431.423823   1.143048e+01   1.544410e+01   \n",
       "sigma1  24000.0          inf          inf  1.061352e+00    4.601483   6.035698e+00  1.874497e+304   \n",
       "sigma2  24000.0          inf          inf  2.912545e+00    5.408828  3.929300e+303  9.101507e+307   \n",
       "\n",
       "                  max  \n",
       "pi1      9.999999e-01  \n",
       "pi2      9.999973e-01  \n",
       "mu1      4.133514e+04  \n",
       "mu2      1.134032e+03  \n",
       "sigma1  1.797657e+308  \n",
       "sigma2  1.796832e+308  "
      ]
     },
     "execution_count": 11,
     "metadata": {},
     "output_type": "execute_result"
    }
   ],
   "source": [
    "pd.DataFrame({\n",
    "    'pi1': params['pi'][:, 0],\n",
    "    'pi2': params['pi'][:, 1],\n",
    "    'mu1': params['mu'][:, 0],\n",
    "    'mu2': params['mu'][:, 1],\n",
    "    'sigma1': params['sigma'][:, 0],\n",
    "    'sigma2': params['sigma'][:, 1]\n",
    "}).describe().T"
   ]
  },
  {
   "cell_type": "markdown",
   "metadata": {},
   "source": [
    "収束しないw"
   ]
  }
 ],
 "metadata": {
  "kernelspec": {
   "display_name": "Python 3",
   "language": "python",
   "name": "python3"
  },
  "language_info": {
   "codemirror_mode": {
    "name": "ipython",
    "version": 3
   },
   "file_extension": ".py",
   "mimetype": "text/x-python",
   "name": "python",
   "nbconvert_exporter": "python",
   "pygments_lexer": "ipython3",
   "version": "3.6.7"
  }
 },
 "nbformat": 4,
 "nbformat_minor": 2
}
