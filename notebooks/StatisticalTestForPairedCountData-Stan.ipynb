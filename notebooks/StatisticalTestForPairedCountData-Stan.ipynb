{
 "cells": [
  {
   "cell_type": "code",
   "execution_count": 1,
   "metadata": {},
   "outputs": [],
   "source": [
    "import arviz as az"
   ]
  },
  {
   "cell_type": "code",
   "execution_count": 2,
   "metadata": {},
   "outputs": [],
   "source": [
    "from util import stan_cache"
   ]
  },
  {
   "cell_type": "code",
   "execution_count": 3,
   "metadata": {},
   "outputs": [],
   "source": [
    "update_mpl_setting()"
   ]
  },
  {
   "cell_type": "code",
   "execution_count": 4,
   "metadata": {},
   "outputs": [],
   "source": [
    "np.random.seed(12345)"
   ]
  },
  {
   "cell_type": "code",
   "execution_count": 5,
   "metadata": {},
   "outputs": [],
   "source": [
    "uniform_pvals = [0.33, 0.33, 0.33]"
   ]
  },
  {
   "cell_type": "code",
   "execution_count": 6,
   "metadata": {},
   "outputs": [],
   "source": [
    "def uniform(n):\n",
    "    k = n // 3\n",
    "    ret = [k, k, k]\n",
    "    for i in range(n - k*3):\n",
    "        t = np.argmax(np.random.multinomial(n=1, pvals=[0.33, 0.33, 0.33]))\n",
    "        ret[t] += 1\n",
    "        \n",
    "    return ret"
   ]
  },
  {
   "cell_type": "code",
   "execution_count": 7,
   "metadata": {},
   "outputs": [],
   "source": [
    "N = 10000\n",
    "k1, k2, k3 = np.random.multinomial(n=N, pvals=uniform_pvals)"
   ]
  },
  {
   "cell_type": "code",
   "execution_count": 8,
   "metadata": {},
   "outputs": [],
   "source": [
    "a = np.random.multinomial(n=k1, pvals=[0.7, 0.2, 0.1])\n",
    "b = np.random.multinomial(n=k2, pvals=[0.2, 0.5, 0.3])\n",
    "c = uniform(k3)"
   ]
  },
  {
   "cell_type": "code",
   "execution_count": 9,
   "metadata": {},
   "outputs": [],
   "source": [
    "colnames = [\"Meat\", \"Fish\", \"Cheese\"]\n",
    "indexnames = [\"Red\", \"White\", \"Rose\"]"
   ]
  },
  {
   "cell_type": "code",
   "execution_count": 10,
   "metadata": {},
   "outputs": [
    {
     "data": {
      "text/html": [
       "<div>\n",
       "<style scoped>\n",
       "    .dataframe tbody tr th:only-of-type {\n",
       "        vertical-align: middle;\n",
       "    }\n",
       "\n",
       "    .dataframe tbody tr th {\n",
       "        vertical-align: top;\n",
       "    }\n",
       "\n",
       "    .dataframe thead th {\n",
       "        text-align: right;\n",
       "    }\n",
       "</style>\n",
       "<table border=\"1\" class=\"dataframe\">\n",
       "  <thead>\n",
       "    <tr style=\"text-align: right;\">\n",
       "      <th></th>\n",
       "      <th>Meat</th>\n",
       "      <th>Fish</th>\n",
       "      <th>Cheese</th>\n",
       "    </tr>\n",
       "  </thead>\n",
       "  <tbody>\n",
       "    <tr>\n",
       "      <th>Red</th>\n",
       "      <td>2373</td>\n",
       "      <td>632</td>\n",
       "      <td>299</td>\n",
       "    </tr>\n",
       "    <tr>\n",
       "      <th>White</th>\n",
       "      <td>658</td>\n",
       "      <td>1672</td>\n",
       "      <td>983</td>\n",
       "    </tr>\n",
       "    <tr>\n",
       "      <th>Rose</th>\n",
       "      <td>1129</td>\n",
       "      <td>1127</td>\n",
       "      <td>1127</td>\n",
       "    </tr>\n",
       "  </tbody>\n",
       "</table>\n",
       "</div>"
      ],
      "text/plain": [
       "       Meat  Fish  Cheese\n",
       "Red    2373   632     299\n",
       "White   658  1672     983\n",
       "Rose   1129  1127    1127"
      ]
     },
     "execution_count": 10,
     "metadata": {},
     "output_type": "execute_result"
    }
   ],
   "source": [
    "df = pd.DataFrame(np.vstack((a, b, c)), columns=colnames, index=indexnames)\n",
    "df"
   ]
  },
  {
   "cell_type": "code",
   "execution_count": 11,
   "metadata": {},
   "outputs": [],
   "source": [
    "model = \"\"\"\n",
    "data { \n",
    "    int<lower=1> g;\n",
    "    int<lower=0> N;\n",
    "    int<lower=0> n[g, g];\n",
    "}\n",
    "transformed data {\n",
    "    int<lower=0> vectorized_n[g*g];\n",
    "\n",
    "    for (i in 1:g) {\n",
    "        for (j in 1:g) {\n",
    "            vectorized_n[(i - 1)*g + j] = n[i, j];\n",
    "        }\n",
    "    }\n",
    "}\n",
    "parameters {\n",
    "    simplex[g*g] vectorized_p;\n",
    "}\n",
    "transformed parameters {\n",
    "    real<lower=0, upper=1> p[g, g];\n",
    "\n",
    "    for (i in 1:g) {\n",
    "        for (j in 1:g) {\n",
    "            p[i, j] = vectorized_p[(i - 1)*g + j];\n",
    "        }\n",
    "    }\n",
    "}\n",
    "model {\n",
    "    vectorized_n ~ multinomial(vectorized_p);\n",
    "}\n",
    "generated quantities {\n",
    "    real marginal_prob_r[g];\n",
    "    real marginal_prob_c[g];\n",
    "    real pearson_residual[g, g];\n",
    "    real pearson_residual_positive[g, g];\n",
    "    real pearson_residual_negative[g, g];\n",
    "    real cramers_V = 0;\n",
    "\n",
    "    for (i in 1:g) {\n",
    "        marginal_prob_r[i] = 0;\n",
    "        marginal_prob_c[i] = 0;\n",
    "    }\n",
    "\n",
    "    for (i in 1:g) {\n",
    "        for (j in 1:g) {\n",
    "            marginal_prob_r[i] += p[i, j];\n",
    "            marginal_prob_c[j] += p[i, j];\n",
    "        }\n",
    "    }\n",
    "\n",
    "    for (i in 1:g) {\n",
    "        for (j in 1:g) {\n",
    "            pearson_residual[i, j] = (p[i, j] - marginal_prob_r[i] * marginal_prob_c[j]) / sqrt(marginal_prob_r[i] * marginal_prob_c[j]);\n",
    "            cramers_V += pow(pearson_residual[i, j], 2);\n",
    "            pearson_residual_positive[i, j] = pearson_residual[i, j] > 0 ? 1 : 0;\n",
    "            pearson_residual_negative[i, j] = !(pearson_residual_positive[i, j]);\n",
    "        }\n",
    "    }\n",
    "    cramers_V = sqrt(cramers_V / (g - 1));\n",
    "}\n",
    "\"\"\""
   ]
  },
  {
   "cell_type": "code",
   "execution_count": 12,
   "metadata": {},
   "outputs": [
    {
     "name": "stderr",
     "output_type": "stream",
     "text": [
      "WARNING:pystan:n_eff / iter for parameter pearson_residual_positive[1,1] is nan!\n",
      "WARNING:pystan:n_eff / iter for parameter pearson_residual_positive[2,1] is nan!\n",
      "WARNING:pystan:n_eff / iter for parameter pearson_residual_positive[3,1] is nan!\n",
      "WARNING:pystan:n_eff / iter for parameter pearson_residual_positive[1,2] is nan!\n",
      "WARNING:pystan:n_eff / iter for parameter pearson_residual_positive[2,2] is nan!\n",
      "WARNING:pystan:n_eff / iter for parameter pearson_residual_positive[1,3] is nan!\n",
      "WARNING:pystan:n_eff / iter for parameter pearson_residual_positive[2,3] is nan!\n",
      "WARNING:pystan:n_eff / iter for parameter pearson_residual_positive[3,3] is nan!\n",
      "WARNING:pystan:n_eff / iter for parameter pearson_residual_negative[1,1] is nan!\n",
      "WARNING:pystan:n_eff / iter for parameter pearson_residual_negative[2,1] is nan!\n",
      "WARNING:pystan:n_eff / iter for parameter pearson_residual_negative[3,1] is nan!\n",
      "WARNING:pystan:n_eff / iter for parameter pearson_residual_negative[1,2] is nan!\n",
      "WARNING:pystan:n_eff / iter for parameter pearson_residual_negative[2,2] is nan!\n",
      "WARNING:pystan:n_eff / iter for parameter pearson_residual_negative[1,3] is nan!\n",
      "WARNING:pystan:n_eff / iter for parameter pearson_residual_negative[2,3] is nan!\n",
      "WARNING:pystan:n_eff / iter for parameter pearson_residual_negative[3,3] is nan!\n",
      "WARNING:pystan:n_eff / iter below 0.001 indicates that the effective sample size has likely been overestimated\n",
      "WARNING:pystan:Rhat for parameter pearson_residual_positive[1,1] is nan!\n",
      "WARNING:pystan:Rhat for parameter pearson_residual_positive[2,1] is nan!\n",
      "WARNING:pystan:Rhat for parameter pearson_residual_positive[3,1] is nan!\n",
      "WARNING:pystan:Rhat for parameter pearson_residual_positive[1,2] is nan!\n",
      "WARNING:pystan:Rhat for parameter pearson_residual_positive[2,2] is nan!\n",
      "WARNING:pystan:Rhat for parameter pearson_residual_positive[1,3] is nan!\n",
      "WARNING:pystan:Rhat for parameter pearson_residual_positive[2,3] is nan!\n",
      "WARNING:pystan:Rhat for parameter pearson_residual_positive[3,3] is nan!\n",
      "WARNING:pystan:Rhat for parameter pearson_residual_negative[1,1] is nan!\n",
      "WARNING:pystan:Rhat for parameter pearson_residual_negative[2,1] is nan!\n",
      "WARNING:pystan:Rhat for parameter pearson_residual_negative[3,1] is nan!\n",
      "WARNING:pystan:Rhat for parameter pearson_residual_negative[1,2] is nan!\n",
      "WARNING:pystan:Rhat for parameter pearson_residual_negative[2,2] is nan!\n",
      "WARNING:pystan:Rhat for parameter pearson_residual_negative[1,3] is nan!\n",
      "WARNING:pystan:Rhat for parameter pearson_residual_negative[2,3] is nan!\n",
      "WARNING:pystan:Rhat for parameter pearson_residual_negative[3,3] is nan!\n",
      "WARNING:pystan:Rhat above 1.1 or below 0.9 indicates that the chains very likely have not mixed\n"
     ]
    }
   ],
   "source": [
    "data = {\n",
    "    \"g\": 3,\n",
    "    \"N\": N,\n",
    "    \"n\": df.values\n",
    "}\n",
    "\n",
    "sm = stan_cache(model_code=model)\n",
    "params = sm.sampling(data=data, iter=6000, warmup=1000)"
   ]
  },
  {
   "cell_type": "code",
   "execution_count": 13,
   "metadata": {},
   "outputs": [],
   "source": [
    "def show(target):\n",
    "    ret = []\n",
    "    for i in range(3):\n",
    "        for j in range(3):\n",
    "            ret.append(np.mean(params[target][:, i, j]))\n",
    "    df = pd.DataFrame(np.array(ret).reshape(3, 3))\n",
    "    df.columns = colnames\n",
    "    df.index = indexnames\n",
    "    return df"
   ]
  },
  {
   "cell_type": "code",
   "execution_count": 14,
   "metadata": {},
   "outputs": [],
   "source": [
    "def plot(target):\n",
    "    for i in range(3):\n",
    "        for j in range(3):\n",
    "            sns.distplot(params[target][:, i, j], label=f\"{target}: {i}-{j}\")\n",
    "    plt.legend()"
   ]
  },
  {
   "cell_type": "code",
   "execution_count": 15,
   "metadata": {},
   "outputs": [
    {
     "data": {
      "image/png": "[encoded data removed]",
      "text/plain": [
       "<Figure size 561.6x374.4 with 1 Axes>"
      ]
     },
     "metadata": {
      "needs_background": "light"
     },
     "output_type": "display_data"
    }
   ],
   "source": [
    "plot(\"p\")"
   ]
  },
  {
   "cell_type": "code",
   "execution_count": 16,
   "metadata": {},
   "outputs": [
    {
     "data": {
      "image/png": "[encoded data removed]",
      "text/plain": [
       "<Figure size 561.6x374.4 with 1 Axes>"
      ]
     },
     "metadata": {
      "needs_background": "light"
     },
     "output_type": "display_data"
    }
   ],
   "source": [
    "plot(\"pearson_residual\")"
   ]
  },
  {
   "cell_type": "code",
   "execution_count": 17,
   "metadata": {},
   "outputs": [
    {
     "data": {
      "text/html": [
       "<div>\n",
       "<style scoped>\n",
       "    .dataframe tbody tr th:only-of-type {\n",
       "        vertical-align: middle;\n",
       "    }\n",
       "\n",
       "    .dataframe tbody tr th {\n",
       "        vertical-align: top;\n",
       "    }\n",
       "\n",
       "    .dataframe thead th {\n",
       "        text-align: right;\n",
       "    }\n",
       "</style>\n",
       "<table border=\"1\" class=\"dataframe\">\n",
       "  <thead>\n",
       "    <tr style=\"text-align: right;\">\n",
       "      <th></th>\n",
       "      <th>Meat</th>\n",
       "      <th>Fish</th>\n",
       "      <th>Cheese</th>\n",
       "    </tr>\n",
       "  </thead>\n",
       "  <tbody>\n",
       "    <tr>\n",
       "      <th>Red</th>\n",
       "      <td>0.237195</td>\n",
       "      <td>0.063224</td>\n",
       "      <td>0.029984</td>\n",
       "    </tr>\n",
       "    <tr>\n",
       "      <th>White</th>\n",
       "      <td>0.065824</td>\n",
       "      <td>0.167152</td>\n",
       "      <td>0.098327</td>\n",
       "    </tr>\n",
       "    <tr>\n",
       "      <th>Rose</th>\n",
       "      <td>0.112903</td>\n",
       "      <td>0.112688</td>\n",
       "      <td>0.112705</td>\n",
       "    </tr>\n",
       "  </tbody>\n",
       "</table>\n",
       "</div>"
      ],
      "text/plain": [
       "           Meat      Fish    Cheese\n",
       "Red    0.237195  0.063224  0.029984\n",
       "White  0.065824  0.167152  0.098327\n",
       "Rose   0.112903  0.112688  0.112705"
      ]
     },
     "execution_count": 17,
     "metadata": {},
     "output_type": "execute_result"
    }
   ],
   "source": [
    "show(\"p\")"
   ]
  },
  {
   "cell_type": "code",
   "execution_count": 18,
   "metadata": {},
   "outputs": [
    {
     "data": {
      "text/html": [
       "<div>\n",
       "<style scoped>\n",
       "    .dataframe tbody tr th:only-of-type {\n",
       "        vertical-align: middle;\n",
       "    }\n",
       "\n",
       "    .dataframe tbody tr th {\n",
       "        vertical-align: top;\n",
       "    }\n",
       "\n",
       "    .dataframe thead th {\n",
       "        text-align: right;\n",
       "    }\n",
       "</style>\n",
       "<table border=\"1\" class=\"dataframe\">\n",
       "  <thead>\n",
       "    <tr style=\"text-align: right;\">\n",
       "      <th></th>\n",
       "      <th>Meat</th>\n",
       "      <th>Fish</th>\n",
       "      <th>Cheese</th>\n",
       "    </tr>\n",
       "  </thead>\n",
       "  <tbody>\n",
       "    <tr>\n",
       "      <th>Red</th>\n",
       "      <td>0.269139</td>\n",
       "      <td>-0.148874</td>\n",
       "      <td>-0.175924</td>\n",
       "    </tr>\n",
       "    <tr>\n",
       "      <th>White</th>\n",
       "      <td>-0.193876</td>\n",
       "      <td>0.158669</td>\n",
       "      <td>0.065387</td>\n",
       "    </tr>\n",
       "    <tr>\n",
       "      <th>Rose</th>\n",
       "      <td>-0.074113</td>\n",
       "      <td>-0.009889</td>\n",
       "      <td>0.109157</td>\n",
       "    </tr>\n",
       "  </tbody>\n",
       "</table>\n",
       "</div>"
      ],
      "text/plain": [
       "           Meat      Fish    Cheese\n",
       "Red    0.269139 -0.148874 -0.175924\n",
       "White -0.193876  0.158669  0.065387\n",
       "Rose  -0.074113 -0.009889  0.109157"
      ]
     },
     "execution_count": 18,
     "metadata": {},
     "output_type": "execute_result"
    }
   ],
   "source": [
    "show(\"pearson_residual\")"
   ]
  },
  {
   "cell_type": "code",
   "execution_count": 19,
   "metadata": {},
   "outputs": [
    {
     "data": {
      "text/html": [
       "<div>\n",
       "<style scoped>\n",
       "    .dataframe tbody tr th:only-of-type {\n",
       "        vertical-align: middle;\n",
       "    }\n",
       "\n",
       "    .dataframe tbody tr th {\n",
       "        vertical-align: top;\n",
       "    }\n",
       "\n",
       "    .dataframe thead th {\n",
       "        text-align: right;\n",
       "    }\n",
       "</style>\n",
       "<table border=\"1\" class=\"dataframe\">\n",
       "  <thead>\n",
       "    <tr style=\"text-align: right;\">\n",
       "      <th></th>\n",
       "      <th>Meat</th>\n",
       "      <th>Fish</th>\n",
       "      <th>Cheese</th>\n",
       "    </tr>\n",
       "  </thead>\n",
       "  <tbody>\n",
       "    <tr>\n",
       "      <th>Red</th>\n",
       "      <td>1.0</td>\n",
       "      <td>0.0000</td>\n",
       "      <td>0.0</td>\n",
       "    </tr>\n",
       "    <tr>\n",
       "      <th>White</th>\n",
       "      <td>0.0</td>\n",
       "      <td>1.0000</td>\n",
       "      <td>1.0</td>\n",
       "    </tr>\n",
       "    <tr>\n",
       "      <th>Rose</th>\n",
       "      <td>0.0</td>\n",
       "      <td>0.0698</td>\n",
       "      <td>1.0</td>\n",
       "    </tr>\n",
       "  </tbody>\n",
       "</table>\n",
       "</div>"
      ],
      "text/plain": [
       "       Meat    Fish  Cheese\n",
       "Red     1.0  0.0000     0.0\n",
       "White   0.0  1.0000     1.0\n",
       "Rose    0.0  0.0698     1.0"
      ]
     },
     "execution_count": 19,
     "metadata": {},
     "output_type": "execute_result"
    }
   ],
   "source": [
    "show(\"pearson_residual_positive\")"
   ]
  },
  {
   "cell_type": "code",
   "execution_count": 20,
   "metadata": {},
   "outputs": [
    {
     "data": {
      "text/html": [
       "<div>\n",
       "<style scoped>\n",
       "    .dataframe tbody tr th:only-of-type {\n",
       "        vertical-align: middle;\n",
       "    }\n",
       "\n",
       "    .dataframe tbody tr th {\n",
       "        vertical-align: top;\n",
       "    }\n",
       "\n",
       "    .dataframe thead th {\n",
       "        text-align: right;\n",
       "    }\n",
       "</style>\n",
       "<table border=\"1\" class=\"dataframe\">\n",
       "  <thead>\n",
       "    <tr style=\"text-align: right;\">\n",
       "      <th></th>\n",
       "      <th>Meat</th>\n",
       "      <th>Fish</th>\n",
       "      <th>Cheese</th>\n",
       "    </tr>\n",
       "  </thead>\n",
       "  <tbody>\n",
       "    <tr>\n",
       "      <th>Red</th>\n",
       "      <td>0.0</td>\n",
       "      <td>1.0000</td>\n",
       "      <td>1.0</td>\n",
       "    </tr>\n",
       "    <tr>\n",
       "      <th>White</th>\n",
       "      <td>1.0</td>\n",
       "      <td>0.0000</td>\n",
       "      <td>0.0</td>\n",
       "    </tr>\n",
       "    <tr>\n",
       "      <th>Rose</th>\n",
       "      <td>1.0</td>\n",
       "      <td>0.9302</td>\n",
       "      <td>0.0</td>\n",
       "    </tr>\n",
       "  </tbody>\n",
       "</table>\n",
       "</div>"
      ],
      "text/plain": [
       "       Meat    Fish  Cheese\n",
       "Red     0.0  1.0000     1.0\n",
       "White   1.0  0.0000     0.0\n",
       "Rose    1.0  0.9302     0.0"
      ]
     },
     "execution_count": 20,
     "metadata": {},
     "output_type": "execute_result"
    }
   ],
   "source": [
    "show(\"pearson_residual_negative\")"
   ]
  },
  {
   "cell_type": "code",
   "execution_count": 21,
   "metadata": {},
   "outputs": [
    {
     "data": {
      "text/html": [
       "<div>\n",
       "<style scoped>\n",
       "    .dataframe tbody tr th:only-of-type {\n",
       "        vertical-align: middle;\n",
       "    }\n",
       "\n",
       "    .dataframe tbody tr th {\n",
       "        vertical-align: top;\n",
       "    }\n",
       "\n",
       "    .dataframe thead th {\n",
       "        text-align: right;\n",
       "    }\n",
       "</style>\n",
       "<table border=\"1\" class=\"dataframe\">\n",
       "  <thead>\n",
       "    <tr style=\"text-align: right;\">\n",
       "      <th></th>\n",
       "      <th>count</th>\n",
       "      <th>mean</th>\n",
       "      <th>std</th>\n",
       "      <th>min</th>\n",
       "      <th>25%</th>\n",
       "      <th>50%</th>\n",
       "      <th>75%</th>\n",
       "      <th>max</th>\n",
       "    </tr>\n",
       "  </thead>\n",
       "  <tbody>\n",
       "    <tr>\n",
       "      <th>cramers_V</th>\n",
       "      <td>20000.0</td>\n",
       "      <td>0.324328</td>\n",
       "      <td>0.006364</td>\n",
       "      <td>0.29783</td>\n",
       "      <td>0.320083</td>\n",
       "      <td>0.324373</td>\n",
       "      <td>0.328593</td>\n",
       "      <td>0.350334</td>\n",
       "    </tr>\n",
       "  </tbody>\n",
       "</table>\n",
       "</div>"
      ],
      "text/plain": [
       "             count      mean       std      min       25%       50%       75%       max\n",
       "cramers_V  20000.0  0.324328  0.006364  0.29783  0.320083  0.324373  0.328593  0.350334"
      ]
     },
     "execution_count": 21,
     "metadata": {},
     "output_type": "execute_result"
    }
   ],
   "source": [
    "pd.Series(params[\"cramers_V\"]).to_frame().describe().rename(columns={0: \"cramers_V\"}).T"
   ]
  },
  {
   "cell_type": "code",
   "execution_count": 22,
   "metadata": {},
   "outputs": [
    {
     "data": {
      "text/plain": [
       "<matplotlib.axes._subplots.AxesSubplot at 0x7f11b3bd1908>"
      ]
     },
     "execution_count": 22,
     "metadata": {},
     "output_type": "execute_result"
    },
    {
     "data": {
      "image/png": "[encoded data removed]",
      "text/plain": [
       "<Figure size 561.6x374.4 with 1 Axes>"
      ]
     },
     "metadata": {
      "needs_background": "light"
     },
     "output_type": "display_data"
    }
   ],
   "source": [
    "sns.distplot(params[\"cramers_V\"])"
   ]
  }
 ],
 "metadata": {
  "kernelspec": {
   "display_name": "Python 3",
   "language": "python",
   "name": "python3"
  },
  "language_info": {
   "codemirror_mode": {
    "name": "ipython",
    "version": 3
   },
   "file_extension": ".py",
   "mimetype": "text/x-python",
   "name": "python",
   "nbconvert_exporter": "python",
   "pygments_lexer": "ipython3",
   "version": "3.6.7"
  }
 },
 "nbformat": 4,
 "nbformat_minor": 2
}
