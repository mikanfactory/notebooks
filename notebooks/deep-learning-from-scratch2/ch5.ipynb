{
 "cells": [
  {
   "cell_type": "markdown",
   "metadata": {},
   "source": [
    "### RNNレイヤの実装"
   ]
  },
  {
   "cell_type": "code",
   "execution_count": 1,
   "metadata": {},
   "outputs": [],
   "source": [
    "class RNN:\n",
    "    def __init__(self, Wx, Wh, b):\n",
    "        self.params = [Wx, Wh, b]\n",
    "        self.grads = [np.zeros_like(Wx), np.zeros_like(Wh), np.zeros_like(b)]\n",
    "        self.cache = None\n",
    "        \n",
    "    def forward(self, x, h_prev):\n",
    "        Wx, Wh, b = self.params\n",
    "        t = np.dot(h_prev, Wh) + np.dot(x, Wx) + b\n",
    "        h_next = np.tanh(t)\n",
    "        \n",
    "        self.cache = (x, h_prev, h_next)\n",
    "        return h_next\n",
    "    \n",
    "    def  backward(self, dh_next):\n",
    "        Wx, Wh, b = self.params\n",
    "        x, h_prev, h_next = self.cache\n",
    "        \n",
    "        dt = dt_next * (1 - h_next ** 2)\n",
    "        db = np.sum(dt, axis=0)\n",
    "        dWh = np.dot(h_prev.T, dt)\n",
    "        dh_prev = np.dot(dt, Wh.T)\n",
    "        dWx = np.dot(x.T, dt)\n",
    "        dx = np.dot(dt, Wx.T)\n",
    "        \n",
    "        self.grads[0][...] = dWx\n",
    "        self.grads[1][...] = dWh\n",
    "        self.grads[2][...] = db\n",
    "        \n",
    "        return dx, dh_prev"
   ]
  },
  {
   "cell_type": "markdown",
   "metadata": {},
   "source": [
    "### Time RNNレイヤの実装"
   ]
  },
  {
   "cell_type": "code",
   "execution_count": 2,
   "metadata": {},
   "outputs": [],
   "source": [
    "class TimeRNN:\n",
    "    def __init__(self, Wx, Wh, b, stateful=False):\n",
    "        self.params = [Wx, Wh, b]\n",
    "        self.grads = [np.zeros_like(Wx), np.zeros_like(Wh), np.zeros_like(b)]\n",
    "        self.layers = None\n",
    "        \n",
    "        self.h, self.dh = None, None\n",
    "        self.stateful = stateful\n",
    "        \n",
    "    def set_state(self, h):\n",
    "        self.h = h\n",
    "        \n",
    "    def reset_state(self):\n",
    "        self.h = None\n",
    "        \n",
    "    def forward(self, xs):\n",
    "        Wx, Wh, b = self.params\n",
    "        N, T, D = xs.shape\n",
    "        D, H = Wx.shape\n",
    "        \n",
    "        self.layers = []\n",
    "        hs = np.empty((N, T, H), dtype='f')\n",
    "        \n",
    "        if not self.stateful or self.h is None:\n",
    "            self.h = np.zeros((N, H), dtype='f')\n",
    "            \n",
    "        for t in range(T):\n",
    "            layer = RNN(*self.params)\n",
    "            self.h = layer.forward(xs[:, t, :], self.h)\n",
    "            hs[:, t, :] = self.h\n",
    "            self.layers.append(layer)\n",
    "            \n",
    "        return hs\n",
    "    \n",
    "    def  backward(self, dh_next):\n",
    "        Wx, Wh, b = self.params\n",
    "        N, T, H = dhs.shape\n",
    "        D, H = Wx.shape\n",
    "        \n",
    "        dxs = np.empty((N, T, D), dtype='f')\n",
    "        dh = 0\n",
    "        grads = [0, 0, 0]\n",
    "        for t in reversed(range(T)):\n",
    "            layer = self.layers[t]\n",
    "            dx, dh = layer.backward(dhs[:, t, :] + dh)\n",
    "            dxs[:, t, :] = dx\n",
    "            \n",
    "            for i, grad in enumerate(layer.grads):\n",
    "                grads[i] += grad\n",
    "                \n",
    "        for i, grad in enumerate(grads):\n",
    "            self.grads[i][...] = grad\n",
    "        self.dh = dh\n",
    "        \n",
    "        return dxs"
   ]
  },
  {
   "cell_type": "markdown",
   "metadata": {},
   "source": [
    "### RNNLMの実装"
   ]
  },
  {
   "cell_type": "code",
   "execution_count": 3,
   "metadata": {},
   "outputs": [],
   "source": [
    "from common.time_layers import *"
   ]
  },
  {
   "cell_type": "code",
   "execution_count": 4,
   "metadata": {},
   "outputs": [],
   "source": [
    "class SimpleRnnlm:\n",
    "    def __init__(self, vocab_size, wordvec_size, hidden_size):\n",
    "        V, D, H = vocab_size, wordvec_size, hidden_size\n",
    "        rn = np.random.randn\n",
    "\n",
    "        embed_W = (rn(V, D) / 100).astype('f')\n",
    "        rnn_Wx = (rn(D, H) / np.sqrt(D)).astype('f')\n",
    "        rnn_Wh = (rn(H, H) / np.sqrt(H)).astype('f')\n",
    "        rnn_b = np.zeros(H).astype('f')\n",
    "        affine_W = (rn(H, V) / np.sqrt(H)).astype('f')\n",
    "        affine_b = np.zeros(V).astype('f')\n",
    "\n",
    "        self.layers = [\n",
    "            TimeEmbedding(embed_W),\n",
    "            TimeRNN(rnn_Wx, rnn_Wh, rnn_b, stateful=True),\n",
    "            TimeAffine(affine_W, affine_b)\n",
    "        ]\n",
    "        self.loss_layer = TimeSoftmaxWithLoss()\n",
    "        self.rnn_layer = self.layers[1]\n",
    "\n",
    "        self.params, self.grads = [], []\n",
    "        for layer in self.layers:\n",
    "            self.params += layer.params\n",
    "            self.grads += layer.grads\n",
    "\n",
    "    def forward(self, xs, ts):\n",
    "        for layer in self.layers:\n",
    "            xs = layer.forward(xs)\n",
    "        loss = self.loss_layer.forward(xs, ts)\n",
    "        return loss\n",
    "\n",
    "    def backward(self, dout=1):\n",
    "        dout = self.loss_layer.backward(dout)\n",
    "        for layer in reversed(self.layers):\n",
    "            dout = layer.backward(dout)\n",
    "        return dout\n",
    "\n",
    "    def reset_state(self):\n",
    "        self.rnn_layer.reset_state()"
   ]
  },
  {
   "cell_type": "code",
   "execution_count": 5,
   "metadata": {},
   "outputs": [],
   "source": [
    "from common.optimizer import SGD\n",
    "from dataset import ptb"
   ]
  },
  {
   "cell_type": "code",
   "execution_count": 6,
   "metadata": {},
   "outputs": [],
   "source": [
    "batch_size = 10\n",
    "wordvec_size = 100\n",
    "hidden_size = 100\n",
    "time_size = 5\n",
    "lr = 0.1\n",
    "max_epoch = 100"
   ]
  },
  {
   "cell_type": "code",
   "execution_count": 7,
   "metadata": {},
   "outputs": [],
   "source": [
    "corpus, word_to_id, id_to_word = ptb.load_data('train')\n",
    "corpus_size = 1000\n",
    "corpus = corpus[:corpus_size]\n",
    "vocab_size = int(max(corpus) + 1)"
   ]
  },
  {
   "cell_type": "code",
   "execution_count": 8,
   "metadata": {},
   "outputs": [],
   "source": [
    "xs = corpus[:-1]\n",
    "ts = corpus[1:]\n",
    "data_size = len(xs)"
   ]
  },
  {
   "cell_type": "code",
   "execution_count": 9,
   "metadata": {},
   "outputs": [
    {
     "data": {
      "text/plain": [
       "'corpus size: 1000, vocabulary size: 418'"
      ]
     },
     "execution_count": 9,
     "metadata": {},
     "output_type": "execute_result"
    }
   ],
   "source": [
    "f'corpus size: {corpus_size}, vocabulary size: {vocab_size}'"
   ]
  },
  {
   "cell_type": "code",
   "execution_count": 10,
   "metadata": {},
   "outputs": [],
   "source": [
    "max_iters = data_size // (batch_size * time_size)\n",
    "time_idx = 0\n",
    "total_loss = 0\n",
    "loss_count = 0\n",
    "ppl_list = []"
   ]
  },
  {
   "cell_type": "code",
   "execution_count": 11,
   "metadata": {},
   "outputs": [],
   "source": [
    "model = SimpleRnnlm(vocab_size, wordvec_size, hidden_size)\n",
    "optimizer = SGD(lr)"
   ]
  },
  {
   "cell_type": "code",
   "execution_count": 12,
   "metadata": {},
   "outputs": [],
   "source": [
    "jump = (corpus_size - 1) // batch_size\n",
    "offsets = [i * jump for i in range(batch_size)]"
   ]
  },
  {
   "cell_type": "code",
   "execution_count": 13,
   "metadata": {
    "scrolled": true
   },
   "outputs": [
    {
     "name": "stdout",
     "output_type": "stream",
     "text": [
      "| epoch 1 | perplexity 366.891197580111\n",
      "| epoch 2 | perplexity 243.7424083532691\n",
      "| epoch 3 | perplexity 222.2835406597992\n",
      "| epoch 4 | perplexity 213.3213912244919\n",
      "| epoch 5 | perplexity 203.56805063728368\n",
      "| epoch 6 | perplexity 201.55257601067404\n",
      "| epoch 7 | perplexity 197.84849122328873\n",
      "| epoch 8 | perplexity 195.85066814160308\n",
      "| epoch 9 | perplexity 190.9359736438824\n",
      "| epoch 10 | perplexity 192.12808588087725\n",
      "| epoch 11 | perplexity 187.72452618522016\n",
      "| epoch 12 | perplexity 191.37718360658786\n",
      "| epoch 13 | perplexity 189.39634333117903\n",
      "| epoch 14 | perplexity 189.56497901462146\n",
      "| epoch 15 | perplexity 187.85146417151233\n",
      "| epoch 16 | perplexity 185.21519140687684\n",
      "| epoch 17 | perplexity 182.21417560305215\n",
      "| epoch 18 | perplexity 179.4583603372844\n",
      "| epoch 19 | perplexity 179.90772066488054\n",
      "| epoch 20 | perplexity 182.35524457700643\n",
      "| epoch 21 | perplexity 181.8268786863698\n",
      "| epoch 22 | perplexity 176.15515969212683\n",
      "| epoch 23 | perplexity 171.48611039275167\n",
      "| epoch 24 | perplexity 175.34446588720735\n",
      "| epoch 25 | perplexity 172.47012466893167\n",
      "| epoch 26 | perplexity 171.50178083271723\n",
      "| epoch 27 | perplexity 166.66947398989666\n",
      "| epoch 28 | perplexity 163.9542462047408\n",
      "| epoch 29 | perplexity 162.31498236147507\n",
      "| epoch 30 | perplexity 155.63244053414522\n",
      "| epoch 31 | perplexity 156.22451482272552\n",
      "| epoch 32 | perplexity 153.21850527628078\n",
      "| epoch 33 | perplexity 151.21566798980822\n",
      "| epoch 34 | perplexity 148.4463953072718\n",
      "| epoch 35 | perplexity 146.53280881101608\n",
      "| epoch 36 | perplexity 138.09109962300687\n",
      "| epoch 37 | perplexity 131.41181535840732\n",
      "| epoch 38 | perplexity 129.87276494962677\n",
      "| epoch 39 | perplexity 123.00984246026091\n",
      "| epoch 40 | perplexity 118.31038765162634\n",
      "| epoch 41 | perplexity 118.37342747982227\n",
      "| epoch 42 | perplexity 111.09656702856996\n",
      "| epoch 43 | perplexity 107.13807030157997\n",
      "| epoch 44 | perplexity 103.10359929335429\n",
      "| epoch 45 | perplexity 98.16683174117875\n",
      "| epoch 46 | perplexity 96.22466895982356\n",
      "| epoch 47 | perplexity 92.01601016572772\n",
      "| epoch 48 | perplexity 87.2987263378144\n",
      "| epoch 49 | perplexity 83.85699454893759\n",
      "| epoch 50 | perplexity 79.12556901468734\n",
      "| epoch 51 | perplexity 76.68580997724958\n",
      "| epoch 52 | perplexity 73.2757110367284\n",
      "| epoch 53 | perplexity 70.27875375609446\n",
      "| epoch 54 | perplexity 67.27938483042773\n",
      "| epoch 55 | perplexity 64.03950883513428\n",
      "| epoch 56 | perplexity 59.01696043821696\n",
      "| epoch 57 | perplexity 58.42082720271172\n",
      "| epoch 58 | perplexity 55.54156196048286\n",
      "| epoch 59 | perplexity 50.69140095659085\n",
      "| epoch 60 | perplexity 47.84623086076364\n",
      "| epoch 61 | perplexity 47.546172461867215\n",
      "| epoch 62 | perplexity 44.94575788356694\n",
      "| epoch 63 | perplexity 41.97800688235633\n",
      "| epoch 64 | perplexity 38.92445498687018\n",
      "| epoch 65 | perplexity 38.32675990843293\n",
      "| epoch 66 | perplexity 36.3012919853203\n",
      "| epoch 67 | perplexity 34.40821639175983\n",
      "| epoch 68 | perplexity 30.666025761562516\n",
      "| epoch 69 | perplexity 29.619111621459943\n",
      "| epoch 70 | perplexity 28.111080204179245\n",
      "| epoch 71 | perplexity 27.0963242167086\n",
      "| epoch 72 | perplexity 25.234521019475682\n",
      "| epoch 73 | perplexity 23.267996823851337\n",
      "| epoch 74 | perplexity 22.86075332298592\n",
      "| epoch 75 | perplexity 21.123922984574595\n",
      "| epoch 76 | perplexity 20.227767526154942\n",
      "| epoch 77 | perplexity 19.362185732948213\n",
      "| epoch 78 | perplexity 17.67076716096752\n",
      "| epoch 79 | perplexity 17.77921749704059\n",
      "| epoch 80 | perplexity 16.745374329100926\n",
      "| epoch 81 | perplexity 15.22251585389812\n",
      "| epoch 82 | perplexity 14.510000192389917\n",
      "| epoch 83 | perplexity 13.617195173445873\n",
      "| epoch 84 | perplexity 12.982985636522782\n",
      "| epoch 85 | perplexity 12.557117700575262\n",
      "| epoch 86 | perplexity 11.67684859121115\n",
      "| epoch 87 | perplexity 11.841685319503723\n",
      "| epoch 88 | perplexity 10.15003799789692\n",
      "| epoch 89 | perplexity 10.067645949385497\n",
      "| epoch 90 | perplexity 9.463921929565004\n",
      "| epoch 91 | perplexity 9.131676321744923\n",
      "| epoch 92 | perplexity 8.471824379138193\n",
      "| epoch 93 | perplexity 8.111395577560407\n",
      "| epoch 94 | perplexity 7.8523965530987745\n",
      "| epoch 95 | perplexity 7.285934667669207\n",
      "| epoch 96 | perplexity 6.774603704544686\n",
      "| epoch 97 | perplexity 6.159196431350547\n",
      "| epoch 98 | perplexity 6.515658694578299\n",
      "| epoch 99 | perplexity 6.104718189340391\n",
      "| epoch 100 | perplexity 5.722486682330832\n"
     ]
    }
   ],
   "source": [
    "for epoch in range(max_epoch):\n",
    "    for iter in range(max_iters):\n",
    "        batch_x = np.empty((batch_size, time_size), dtype='i')\n",
    "        batch_t = np.empty((batch_size, time_size), dtype='i')\n",
    "        for t in range(time_size):\n",
    "            for i, offset in enumerate(offsets):\n",
    "                batch_x[i, t] = xs[(offset + time_idx) % data_size]\n",
    "                batch_t[i, t] = ts[(offset + time_idx) % data_size]\n",
    "            time_idx += 1\n",
    "\n",
    "        loss = model.forward(batch_x, batch_t)\n",
    "        model.backward()\n",
    "        optimizer.update(model.params, model.grads)\n",
    "        total_loss += loss\n",
    "        loss_count += 1\n",
    "\n",
    "    ppl = np.exp(total_loss / loss_count)\n",
    "    print(f\"| epoch {epoch + 1} | perplexity {ppl}\")\n",
    "    ppl_list.append(float(ppl))\n",
    "    total_loss, loss_count = 0, 0"
   ]
  },
  {
   "cell_type": "code",
   "execution_count": 14,
   "metadata": {},
   "outputs": [
    {
     "data": {
      "image/png": "[encoded data removed]",
      "text/plain": [
       "<Figure size 432x288 with 1 Axes>"
      ]
     },
     "metadata": {
      "needs_background": "light"
     },
     "output_type": "display_data"
    }
   ],
   "source": [
    "x = np.arange(len(ppl_list))\n",
    "plt.plot(x, ppl_list, label='train')\n",
    "plt.xlabel('epochs')\n",
    "plt.ylabel('perplexity')\n",
    "plt.show()"
   ]
  },
  {
   "cell_type": "code",
   "execution_count": null,
   "metadata": {},
   "outputs": [],
   "source": []
  }
 ],
 "metadata": {
  "kernelspec": {
   "display_name": "Python 3",
   "language": "python",
   "name": "python3"
  },
  "language_info": {
   "codemirror_mode": {
    "name": "ipython",
    "version": 3
   },
   "file_extension": ".py",
   "mimetype": "text/x-python",
   "name": "python",
   "nbconvert_exporter": "python",
   "pygments_lexer": "ipython3",
   "version": "3.6.7"
  }
 },
 "nbformat": 4,
 "nbformat_minor": 2
}
